{
 "cells": [
  {
   "cell_type": "code",
   "execution_count": 16,
   "metadata": {},
   "outputs": [
    {
     "name": "stdout",
     "output_type": "stream",
     "text": [
      "[(245, 243, 238), (246, 242, 244), (202, 164, 110), (240, 245, 241), (236, 239, 243), (149, 75, 50), (222, 201, 136), (53, 93, 123), (170, 154, 41), (138, 31, 20), (134, 163, 184), (197, 92, 73), (47, 121, 86), (73, 43, 35), (145, 178, 149), (14, 98, 70), (232, 176, 165), (160, 142, 158), (54, 45, 50), (101, 75, 77), (183, 205, 171), (36, 60, 74), (19, 86, 89), (82, 148, 129), (147, 17, 19), (27, 68, 102), (12, 70, 64), (107, 127, 153), (176, 192, 208), (168, 99, 102)]\n"
     ]
    }
   ],
   "source": [
    "import colorgram\n",
    "from turtle import Turtle, Screen\n",
    "\n",
    "rgb_colors = []\n",
    "colors = colorgram.extract('img.jpg', 30)\n",
    "for color in colors:\n",
    "    r = color.rgb[0]\n",
    "    g = color.rgb[1]\n",
    "    b = color.rgb[2]\n",
    "    color_tuple = (r,g,b)\n",
    "    rgb_colors.append(color_tuple)\n",
    "print(rgb_colors)\n",
    "\n",
    "screen = Screen()\n",
    "screen.colormode(255)\n",
    "\n",
    "tim = Turtle()\n",
    "tim.speed(\"fastest\")\n",
    "tim.pensize(10)\n",
    "screen.exitonclick()"
   ]
  },
  {
   "cell_type": "code",
   "execution_count": 237,
   "metadata": {},
   "outputs": [],
   "source": [
    "no_of_columns = 10\n",
    "no_of_rows = 10\n",
    "screen_size_x = 100\n",
    "screen_size_y = 100\n",
    "\n",
    "# Generate coordinates\n",
    "x_cords = []\n",
    "for x_cord in range(0,screen_size_x+no_of_columns,no_of_columns):\n",
    "    x_cords.append(x_cord)\n",
    "    x_cords.append(-x_cord)\n",
    "\n",
    "y_cords = []\n",
    "for y_cord in range(0,screen_size_y+no_of_rows,no_of_rows):\n",
    "    y_cords.append(y_cord)\n",
    "    y_cords.append(-y_cord)\n",
    "\n",
    "gen = ((x, y) for x in x_cords for y in y_cords)\n",
    "\n",
    "cords = []\n",
    "for x, y in gen:\n",
    "    cords.append((x,y))\n",
    "cords = list(dict.fromkeys(cords))\n",
    "\n",
    "cord = random.choice(cords)\n",
    "x = cord[0]\n",
    "y = cord[0]\n",
    "cords.remove(cord)\n"
   ]
  },
  {
   "cell_type": "code",
   "execution_count": 253,
   "metadata": {},
   "outputs": [
    {
     "data": {
      "text/plain": [
       "50"
      ]
     },
     "execution_count": 253,
     "metadata": {},
     "output_type": "execute_result"
    }
   ],
   "source": [
    "import random\n",
    "cord[1]\n"
   ]
  }
 ],
 "metadata": {
  "kernelspec": {
   "display_name": "Python 3.9.6 ('100days')",
   "language": "python",
   "name": "python3"
  },
  "language_info": {
   "codemirror_mode": {
    "name": "ipython",
    "version": 3
   },
   "file_extension": ".py",
   "mimetype": "text/x-python",
   "name": "python",
   "nbconvert_exporter": "python",
   "pygments_lexer": "ipython3",
   "version": "3.9.6"
  },
  "orig_nbformat": 4,
  "vscode": {
   "interpreter": {
    "hash": "9ef418caba7999d12cbe59903b0a5d7d3631a703c4d78aecd01cefd40f5f4ad7"
   }
  }
 },
 "nbformat": 4,
 "nbformat_minor": 2
}
